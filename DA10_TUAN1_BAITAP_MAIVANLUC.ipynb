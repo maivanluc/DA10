{
 "cells": [
  {
   "cell_type": "code",
   "execution_count": 1,
   "id": "302c4556",
   "metadata": {},
   "outputs": [
    {
     "name": "stdout",
     "output_type": "stream",
     "text": [
      "Nhập danh xưng :a\n",
      "Nhập họ:b\n",
      "Nhập tên đệm:c\n",
      "Nhập tên:d\n",
      "Nhập năm sinh:2000\n",
      "Xin chào a. b\n",
      "Tên in trên vé của bạn là b c d\n",
      "Số ghế của bạn là 100\n",
      "Bạn năm nay 24 tuổi\n"
     ]
    }
   ],
   "source": [
    "stt = 99\n",
    "def chao_mung_khach_hang(danhxung,ho,tendem,ten,nam):\n",
    "    global stt\n",
    "    stt = stt + 1\n",
    "    ketqua_1 = \"Xin chào \" + danh_xung + \". \" + ho\n",
    "    ketqua_2 = \"Tên in trên vé của bạn là \" + ho + \" \" + ten_dem + \" \" + ten\n",
    "    ketqua_3 = \"Số ghế của bạn là \" + str(stt)\n",
    "    nam_hien_tai = 2023\n",
    "    tuoi = str(nam_hien_tai - int(nam) + 1)\n",
    "    ketqua_4 = \"Bạn năm nay \"+ tuoi + \" tuổi\" \n",
    "    print(ketqua_1)\n",
    "    print(ketqua_2)\n",
    "    print(ketqua_3)\n",
    "    print(ketqua_4)\n",
    "\n",
    "danh_xung = input(\"Nhập danh xưng :\")\n",
    "ho = input (\"Nhập họ:\")\n",
    "ten_dem = input (\"Nhập tên đệm:\")\n",
    "ten = input (\"Nhập tên:\")\n",
    "nam = int(input (\"Nhập năm sinh:\"))\n",
    "\n",
    "chao_mung_khach_hang(danh_xung,ho,ten_dem,ten,nam)"
   ]
  },
  {
   "cell_type": "code",
   "execution_count": null,
   "id": "e89c5e53",
   "metadata": {},
   "outputs": [],
   "source": []
  }
 ],
 "metadata": {
  "kernelspec": {
   "display_name": "Python 3 (ipykernel)",
   "language": "python",
   "name": "python3"
  },
  "language_info": {
   "codemirror_mode": {
    "name": "ipython",
    "version": 3
   },
   "file_extension": ".py",
   "mimetype": "text/x-python",
   "name": "python",
   "nbconvert_exporter": "python",
   "pygments_lexer": "ipython3",
   "version": "3.10.9"
  }
 },
 "nbformat": 4,
 "nbformat_minor": 5
}
