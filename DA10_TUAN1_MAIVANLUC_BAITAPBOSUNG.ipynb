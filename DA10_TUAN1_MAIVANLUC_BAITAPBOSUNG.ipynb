{
 "cells": [
  {
   "cell_type": "code",
   "execution_count": null,
   "id": "9fb9ee23",
   "metadata": {},
   "outputs": [],
   "source": [
    "def calculate_bmi (height, weight):\n",
    "    bmi = weight / (height ** 2)\n",
    "    return bmi\n",
    "\n",
    "height = float(input (\"Nhập chiều cao của bạn (m):\"))\n",
    "weight = float(input (\"Nhập cân nặng của bạn (kg):\"))\n",
    "\n",
    "bmi = calculate_bmi(height,weight)\n",
    "print (\"Chỉ số bmi của bạn \" + str(bmi))"
   ]
  }
 ],
 "metadata": {
  "kernelspec": {
   "display_name": "Python 3 (ipykernel)",
   "language": "python",
   "name": "python3"
  },
  "language_info": {
   "codemirror_mode": {
    "name": "ipython",
    "version": 3
   },
   "file_extension": ".py",
   "mimetype": "text/x-python",
   "name": "python",
   "nbconvert_exporter": "python",
   "pygments_lexer": "ipython3",
   "version": "3.10.9"
  }
 },
 "nbformat": 4,
 "nbformat_minor": 5
}
