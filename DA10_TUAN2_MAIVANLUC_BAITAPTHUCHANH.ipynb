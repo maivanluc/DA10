{
 "cells": [
  {
   "cell_type": "code",
   "execution_count": 22,
   "id": "90eca71d",
   "metadata": {},
   "outputs": [
    {
     "name": "stdout",
     "output_type": "stream",
     "text": [
      "Gía cổ phiếu ngày 2 xuống 5%: Mua\n",
      "Gía cổ phiếu ngày 3 lên 7%: Bán\n",
      "Gía cổ phiếu ngày 4 xuống 5%: Mua\n",
      "Gía cổ phiếu ngày 5 xuống 5%: Mua\n",
      "Gía cổ phiếu ngày 6 xuống 5%: Mua\n",
      "Gía cổ phiếu ngày 7 xuống 5%: Mua\n",
      "Gía cổ phiếu ngày 8 xuống 5%: Mua\n"
     ]
    }
   ],
   "source": [
    "gia_theo_ngay =[10.1,9.5,10.7,10.8,10.6,10.0,10.2,9.5]\n",
    "\n",
    "for i in range(1,len(gia_theo_ngay)):\n",
    "    kq = (gia_theo_ngay[i]-gia_theo_ngay[i-1])/gia_theo_ngay[i-1]*100\n",
    "    if kq >= 7 :\n",
    "        print(f\"Gía cổ phiếu ngày {i+1} lên 7%: Bán\")\n",
    "    elif kq <= 5:    \n",
    "        print(f\"Gía cổ phiếu ngày {i+1} xuống 5%: Mua\")\n",
    "    else :\n",
    "        print(f\"Ngày {i+1} Không làm gì\")\n",
    "        "
   ]
  },
  {
   "cell_type": "code",
   "execution_count": 31,
   "id": "cdf2ffed",
   "metadata": {},
   "outputs": [
    {
     "name": "stdout",
     "output_type": "stream",
     "text": [
      "Nhập số lượng số trong list: 5\n",
      "Nhập doanh số thứ 1: 1\n",
      "Nhập doanh số thứ 2: 2\n",
      "Nhập doanh số thứ 3: 3\n",
      "Nhập doanh số thứ 4: 4\n",
      "Nhập doanh số thứ 5: 6\n",
      "List dãy số : [1, 2, 3, 4, 6]\n",
      " 1 không là số nguyên tố \n",
      " 2  là số nguyên tố \n",
      " 3  là số nguyên tố \n",
      " 4 không là số nguyên tố \n",
      " 6 không là số nguyên tố \n"
     ]
    }
   ],
   "source": [
    "def kiem_tra( x ):\n",
    "    if x < 2 :\n",
    "        return 0\n",
    "    for i in range(2, x//2 + 1):\n",
    "        if x%i==0:\n",
    "            return 0\n",
    "    return 1\n",
    "\n",
    "so_luong = int(input(\"Nhập số lượng số trong list: \"))\n",
    "\n",
    "list_so = []\n",
    "x = False\n",
    "\n",
    "for i in range(0,so_luong):\n",
    "    \n",
    "    while not x :\n",
    "        so_tn = (input(\"Nhập doanh số thứ {}: \".format(i+1)))\n",
    "        if not so_tn.isnumeric() :\n",
    "            print(\"{} Phải là có giá trị số \".format(so_tn))     \n",
    "        elif int(so_tn) < 0:\n",
    "            print(\" {} phải lớn hơn = 0 \".format(so_tn))\n",
    "        else:\n",
    "            x =True\n",
    "            \n",
    "    list_so.append(int(so_tn))\n",
    "    x = False\n",
    " \n",
    "print(f\"List dãy số : {list_so}\")\n",
    "\n",
    "for i in range(0,len(list_so)):\n",
    "    check = kiem_tra(list_so[i])\n",
    "    if check == 0:\n",
    "        print(\" {} không là số nguyên tố \".format(list_so[i]))\n",
    "    else:\n",
    "        print(\" {}  là số nguyên tố \".format(list_so[i]))"
   ]
  },
  {
   "cell_type": "markdown",
   "id": "34732357",
   "metadata": {},
   "source": []
  },
  {
   "cell_type": "code",
   "execution_count": 38,
   "id": "50d5d6b8",
   "metadata": {},
   "outputs": [
    {
     "name": "stdout",
     "output_type": "stream",
     "text": [
      "Nhập số lượng nhân viên: 1\n",
      "\n",
      "Nhập thông tin cho nhân viên thứ 1:\n",
      "Lương: 1223456\n",
      "Phụ cấp: 1244\n",
      "\n",
      "==================================\n",
      "\n",
      "Danh sách Lương Phụ cấp từng nhân viên\n",
      "Nhân viên số: 1\n",
      "Lương:  1223456\n",
      "Phụ cấp:  1244\n",
      "Tổng thu nhập:  1224700\n",
      "Tiền chịu thuế:  61235.0\n",
      "Tiền chịu bảo hiểm:  128593.5\n",
      "---\n"
     ]
    }
   ],
   "source": [
    "def tinh_thue(luong):\n",
    "    if luong <= 5000000 :\n",
    "        return 0.05*luong\n",
    "    elif luong > 5000000 and luong <= 100000000 :\n",
    "        return 0.1 *luong-250000\n",
    "    elif luong > 5000000 and luong <= 100000000 :\n",
    "        return 0.1 *luong-250000\n",
    "    elif luong > 10000000 and luong <= 180000000 :\n",
    "        return 0.15 *luong-750000\n",
    "    elif luong > 18000000 and luong <= 320000000 :\n",
    "        return 0.2 *luong-1650000\n",
    "    elif luong > 32000000 and luong <= 520000000 :\n",
    "        return 0.25 *luong-3250000\n",
    "    elif luong > 52000000 and luong <= 800000000 :\n",
    "        return 0.3 *luong-5850000\n",
    "    else:\n",
    "        return 0.35 *luong -9850000\n",
    "\n",
    "def bao_hiem(luong):\n",
    "    return 0.105*luong\n",
    "\n",
    "\n",
    "def nhap_danh_sach_nhan_vien():\n",
    "    danh_sach_nhan_vien = []\n",
    "    so_luong_nhan_vien = int(input(\"Nhập số lượng nhân viên: \"))\n",
    "\n",
    "    for i in range(so_luong_nhan_vien):\n",
    "        print(f\"\\nNhập thông tin cho nhân viên thứ {i+1}:\")\n",
    "        \n",
    "        luong = int(input(\"Lương: \"))\n",
    "        phu_cap = int(input(\"Phụ cấp: \"))\n",
    "\n",
    "        nhan_vien = {\"luong\": luong, \"phucap\": phu_cap, \"tong\": luong + phu_cap}\n",
    "        danh_sach_nhan_vien.append(nhan_vien)\n",
    "\n",
    "    return danh_sach_nhan_vien\n",
    "\n",
    "def tinh_luong_bao_hiem(danh_sach_nhan_vien):\n",
    "    nhan_vien_bh_phucap = []\n",
    "\n",
    "    for nhan_vien in danh_sach_nhan_vien:\n",
    "        thue =tinh_thue(nhan_vien[\"tong\"])\n",
    "        bh =bao_hiem(nhan_vien[\"tong\"])\n",
    "        nhan_vien_total={\"luong\": nhan_vien[\"luong\"], \"phu_cap\": nhan_vien[\"phucap\"], \"tong_tien\":nhan_vien[\"tong\"],\"thue\":thue,\"bh\":bh}\n",
    "        nhan_vien_bh_phucap.append(nhan_vien_total)\n",
    "\n",
    "    return nhan_vien_bh_phucap\n",
    "\n",
    "danh_sach_nhan_vien = nhap_danh_sach_nhan_vien()\n",
    "thue_bh = tinh_luong_bao_hiem(danh_sach_nhan_vien)\n",
    "print(\"\\n==================================\")\n",
    "print(\"\\nDanh sách Lương Phụ cấp từng nhân viên\")\n",
    "for nhan_vien in thue_bh:\n",
    "    i = 1\n",
    "    print(\"Nhân viên số:\",i)\n",
    "    print(\"Lương: \", nhan_vien[\"luong\"])\n",
    "    print(\"Phụ cấp: \", nhan_vien[\"phu_cap\"])\n",
    "    print(\"Tổng thu nhập: \", nhan_vien[\"tong_tien\"])\n",
    "    print(\"Tiền chịu thuế: \", nhan_vien[\"thue\"])\n",
    "    print(\"Tiền chịu bảo hiểm: \", nhan_vien[\"bh\"])\n",
    "    print(\"---\")\n",
    "    i = i + 1"
   ]
  },
  {
   "cell_type": "code",
   "execution_count": null,
   "id": "e03b6bae",
   "metadata": {},
   "outputs": [],
   "source": []
  }
 ],
 "metadata": {
  "kernelspec": {
   "display_name": "Python 3 (ipykernel)",
   "language": "python",
   "name": "python3"
  },
  "language_info": {
   "codemirror_mode": {
    "name": "ipython",
    "version": 3
   },
   "file_extension": ".py",
   "mimetype": "text/x-python",
   "name": "python",
   "nbconvert_exporter": "python",
   "pygments_lexer": "ipython3",
   "version": "3.10.9"
  }
 },
 "nbformat": 4,
 "nbformat_minor": 5
}
